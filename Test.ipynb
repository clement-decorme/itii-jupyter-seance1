{
 "cells": [
  {
   "cell_type": "code",
   "execution_count": 5,
   "metadata": {},
   "outputs": [
    {
     "name": "stdout",
     "output_type": "stream",
     "text": [
      "Donnez le rayon du cône droit !2\n",
      "Donnez la hauteur du cône droit !5\n",
      "20.943951023931955\n"
     ]
    }
   ],
   "source": [
    "import math \n",
    "\n",
    "pi = float(math.pi)\n",
    "\n",
    "r = 0\n",
    "h = 0 \n",
    "v = 0\n",
    "\n",
    "r = float(input(\"Donnez le rayon du cône droit ! \"))\n",
    "h = float(input(\"Donnez la hauteur du cône droit ! \"))\n",
    "\n",
    "v = pi * (r * r) * (h * 1/3)\n",
    "print (v)\n"
   ]
  },
  {
   "cell_type": "code",
   "execution_count": 3,
   "metadata": {},
   "outputs": [
    {
     "name": "stdout",
     "output_type": "stream",
     "text": [
      "Donnez un entier ! 3\n",
      "36\n"
     ]
    }
   ],
   "source": [
    "s = 0\n",
    "n = int(input(\"Donnez un entier ! \"))\n",
    "v = 0\n",
    "t = 0\n",
    "a = 1\n",
    "for i in range (n) :\n",
    "    t = a * a * a\n",
    "    s = s + t\n",
    "    a = a + 1\n",
    "print (s)"
   ]
  },
  {
   "cell_type": "code",
   "execution_count": 4,
   "metadata": {},
   "outputs": [
    {
     "name": "stdout",
     "output_type": "stream",
     "text": [
      "Donnez un entier ! 3\n",
      "6\n"
     ]
    }
   ],
   "source": [
    "s = 0\n",
    "n = int(input(\"Donnez un entier ! \"))\n",
    "v = 0\n",
    "t = 0\n",
    "a = 1\n",
    "for i in range (n) :\n",
    "    t = a\n",
    "    s = s + t\n",
    "    a = a + 1\n",
    "print (s)"
   ]
  },
  {
   "cell_type": "code",
   "execution_count": null,
   "metadata": {},
   "outputs": [],
   "source": [
    "a = 0\n",
    "b = 0\n",
    "i = 1\n",
    "for i in range (999) :\n",
    "    \n",
    "    "
   ]
  }
 ],
 "metadata": {
  "kernelspec": {
   "display_name": "Python 3",
   "language": "python",
   "name": "python3"
  },
  "language_info": {
   "codemirror_mode": {
    "name": "ipython",
    "version": 3
   },
   "file_extension": ".py",
   "mimetype": "text/x-python",
   "name": "python",
   "nbconvert_exporter": "python",
   "pygments_lexer": "ipython3",
   "version": "3.7.6"
  }
 },
 "nbformat": 4,
 "nbformat_minor": 4
}
